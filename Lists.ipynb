{
 "cells": [
  {
   "cell_type": "markdown",
   "id": "ea93fc84",
   "metadata": {},
   "source": [
    "# 1)Write a python program to sum all the items in a list"
   ]
  },
  {
   "cell_type": "code",
   "execution_count": 4,
   "id": "abebf67c",
   "metadata": {},
   "outputs": [
    {
     "name": "stdout",
     "output_type": "stream",
     "text": [
      "The sum of items in list are  12\n"
     ]
    }
   ],
   "source": [
    "def sum_list(items):\n",
    "    sum_numbers=0\n",
    "    for x in items:\n",
    "        sum_numbers+=x\n",
    "    return sum_numbers \n",
    "print(\"The sum of items in list are \",sum_list([1,2,4,5]))"
   ]
  },
  {
   "cell_type": "markdown",
   "id": "657312c4",
   "metadata": {},
   "source": [
    "# 2)Write a python program to multiply elements in a list"
   ]
  },
  {
   "cell_type": "code",
   "execution_count": 1,
   "id": "79ba876e",
   "metadata": {},
   "outputs": [
    {
     "name": "stdout",
     "output_type": "stream",
     "text": [
      "Multiples of elements in list  8\n"
     ]
    }
   ],
   "source": [
    "def multiply_list(list):\n",
    "    mul=1\n",
    "    for ele in list:\n",
    "        mul=mul*ele\n",
    "    return mul\n",
    "print(\"Multiples of elements in list \",multiply_list([1,2,4]))"
   ]
  },
  {
   "cell_type": "markdown",
   "id": "e5ec236a",
   "metadata": {},
   "source": [
    "# 3)Write a program to get largest element in a list\n"
   ]
  },
  {
   "cell_type": "code",
   "execution_count": 8,
   "id": "98276407",
   "metadata": {},
   "outputs": [
    {
     "name": "stdout",
     "output_type": "stream",
     "text": [
      "largest element in list is  4\n"
     ]
    }
   ],
   "source": [
    "def largest_ele(list):\n",
    "    list.sort()\n",
    "    return list[-1]\n",
    "print(\"largest element in list is \",largest_ele([1,4,2]))    "
   ]
  },
  {
   "cell_type": "markdown",
   "id": "e565f05f",
   "metadata": {},
   "source": [
    "# 4)Write a program to get smallest element in a list\n"
   ]
  },
  {
   "cell_type": "code",
   "execution_count": 9,
   "id": "2491d92e",
   "metadata": {},
   "outputs": [
    {
     "name": "stdout",
     "output_type": "stream",
     "text": [
      "smallest element in list is  0\n"
     ]
    }
   ],
   "source": [
    "def smallest_ele(list):\n",
    "    min=list[0]\n",
    "    for i in list:\n",
    "        if i<min:\n",
    "            min=a\n",
    "    return min\n",
    "print('smallest element in list is ',smallest_ele([0,9,2]))"
   ]
  },
  {
   "cell_type": "markdown",
   "id": "752ad6b7",
   "metadata": {},
   "source": [
    "# 5)Write a program to count the number of strings from a given list of string. the string lenght is 2 or more and the first and last characters are same"
   ]
  },
  {
   "cell_type": "code",
   "execution_count": 13,
   "id": "dae83be4",
   "metadata": {},
   "outputs": [
    {
     "name": "stdout",
     "output_type": "stream",
     "text": [
      "count of strings which are same are  2\n"
     ]
    }
   ],
   "source": [
    "def match_Words(words):\n",
    "    ctr=0\n",
    "    for word in words:\n",
    "        if len(word)>1 and word[0]==word[-1]:\n",
    "            ctr+=1\n",
    "    return ctr\n",
    "print(\"count of strings which are same are \",match_Words(['abc','xyz','aba','121']))"
   ]
  },
  {
   "cell_type": "markdown",
   "id": "842a2a87",
   "metadata": {},
   "source": [
    "# 6)Write a program to remove duplicate elements from a list"
   ]
  },
  {
   "cell_type": "code",
   "execution_count": 17,
   "id": "fbe61c57",
   "metadata": {},
   "outputs": [
    {
     "name": "stdout",
     "output_type": "stream",
     "text": [
      "[10, 20, 50, 80]\n"
     ]
    }
   ],
   "source": [
    "a=[10,10,20,20,50,80,80]\n",
    "unique_ele=[]\n",
    "for i in a:\n",
    "    if i not in unique_ele:\n",
    "        unique_ele.append(i)\n",
    "print(unique_ele)        \n",
    "        "
   ]
  },
  {
   "cell_type": "markdown",
   "id": "192b70c0",
   "metadata": {},
   "source": [
    "# 7)Write a program to take 2 lists and return True atleast 1 common element in the list"
   ]
  },
  {
   "cell_type": "code",
   "execution_count": 19,
   "id": "d5beedfd",
   "metadata": {},
   "outputs": [
    {
     "name": "stdout",
     "output_type": "stream",
     "text": [
      "common element are  True\n"
     ]
    }
   ],
   "source": [
    "def common_ele(list1,list2):\n",
    "    result=False\n",
    "    for i in list1:\n",
    "        for j in list1:\n",
    "            if i==j:\n",
    "                result=True\n",
    "    return result      \n",
    "print(\"common element are \",common_ele([1,2,3,4],[2,3,8,9]))"
   ]
  },
  {
   "cell_type": "markdown",
   "id": "d8646f12",
   "metadata": {},
   "source": [
    "# 8)Write a program to print specified list after removing 0th, 4th , 5th elements\n"
   ]
  },
  {
   "cell_type": "code",
   "execution_count": 21,
   "id": "0b16ce1a",
   "metadata": {},
   "outputs": [
    {
     "name": "stdout",
     "output_type": "stream",
     "text": [
      "['blue', 'black', 'white', 'orange', 'grey']\n"
     ]
    }
   ],
   "source": [
    "color=['red','blue','black','white','pink','green','orange','grey']\n",
    "color=[x for (i,x) in enumerate(color) if i not in (0,4,5)]\n",
    "print(color)"
   ]
  },
  {
   "cell_type": "markdown",
   "id": "c54e5587",
   "metadata": {},
   "source": [
    "# 9)Write a program to print the numbers of a specified list after removing even numbers from it"
   ]
  },
  {
   "cell_type": "code",
   "execution_count": 25,
   "id": "4b2354fe",
   "metadata": {},
   "outputs": [
    {
     "name": "stdout",
     "output_type": "stream",
     "text": [
      "numbers in a list without even numbers  [9, 1, 13]\n"
     ]
    }
   ],
   "source": [
    "num=[2,8,9,10,12,1,13]\n",
    "num=[x for x in num if x%2!=0]\n",
    "print(\"numbers in a list without even numbers \",num)"
   ]
  },
  {
   "cell_type": "markdown",
   "id": "22d5bdd9",
   "metadata": {},
   "source": [
    "# 10)Write a program to generate and print a list of the first and last 5 elements where the values are square numbers between 1 and 30"
   ]
  },
  {
   "cell_type": "code",
   "execution_count": 28,
   "id": "9ac0f348",
   "metadata": {},
   "outputs": [
    {
     "name": "stdout",
     "output_type": "stream",
     "text": [
      "First 5 numbers  [1, 4, 9, 16, 25]\n",
      "last 5 numbers  [256, 289, 324, 361, 400]\n"
     ]
    }
   ],
   "source": [
    "l=[]\n",
    "for i in range(1,21):\n",
    "    l.append(i**2)\n",
    "print(\"First 5 numbers \",l[:5])\n",
    "print(\"last 5 numbers \",l[-5:])"
   ]
  },
  {
   "cell_type": "markdown",
   "id": "5429e9dc",
   "metadata": {},
   "source": [
    "# 11)Write a program to access the index of a list\n"
   ]
  },
  {
   "cell_type": "code",
   "execution_count": 31,
   "id": "d7fca0bb",
   "metadata": {},
   "outputs": [
    {
     "name": "stdout",
     "output_type": "stream",
     "text": [
      "index is  0  and value is   5\n",
      "index is  1  and value is   15\n",
      "index is  2  and value is   19\n",
      "index is  3  and value is   10\n"
     ]
    }
   ],
   "source": [
    "nums=[5,15,19,10]\n",
    "for num_index,num_val in enumerate(nums):\n",
    "    print(\"index is \",num_index,\" and value is  \",num_val)"
   ]
  },
  {
   "cell_type": "markdown",
   "id": "167cb12e",
   "metadata": {},
   "source": [
    "# 12)Write a program to get index of specified element in a list\n"
   ]
  },
  {
   "cell_type": "code",
   "execution_count": 36,
   "id": "3bd7e55e",
   "metadata": {},
   "outputs": [
    {
     "name": "stdout",
     "output_type": "stream",
     "text": [
      "index  is  0\n"
     ]
    }
   ],
   "source": [
    "num=[10,20,30]\n",
    "print(\"index  is \",num.index(10))"
   ]
  },
  {
   "cell_type": "markdown",
   "id": "b49c8fd9",
   "metadata": {},
   "source": [
    "# 13)Write a program to insert an element before each element in a list\n"
   ]
  },
  {
   "cell_type": "code",
   "execution_count": 39,
   "id": "6fb2ea5c",
   "metadata": {},
   "outputs": [
    {
     "name": "stdout",
     "output_type": "stream",
     "text": [
      "Altered list is  ['c', 'red', 'c', 'green', 'c', 'orang']\n"
     ]
    }
   ],
   "source": [
    "color=['red','green','orang']\n",
    "color=[v for ele in color for v in ('c',ele)]\n",
    "print('Altered list is ',color)\n"
   ]
  },
  {
   "cell_type": "markdown",
   "id": "188bbdf8",
   "metadata": {},
   "source": [
    "# 14)Write a program to find the list in a list whose sum of elemtents is highest"
   ]
  },
  {
   "cell_type": "code",
   "execution_count": 43,
   "id": "27b94e84",
   "metadata": {},
   "outputs": [
    {
     "name": "stdout",
     "output_type": "stream",
     "text": [
      "sum of all the elements in a list is  21\n"
     ]
    }
   ],
   "source": [
    "num=[[1,2,3],[4,5,6]]\n",
    "sum=0\n",
    "for i in num:\n",
    "    for j in i:\n",
    "        sum=sum+j\n",
    "print(\"sum of all the elements in a list is \",sum)        "
   ]
  },
  {
   "cell_type": "code",
   "execution_count": null,
   "id": "fb4f0424",
   "metadata": {},
   "outputs": [],
   "source": [
    "15)"
   ]
  }
 ],
 "metadata": {
  "kernelspec": {
   "display_name": "Python 3 (ipykernel)",
   "language": "python",
   "name": "python3"
  },
  "language_info": {
   "codemirror_mode": {
    "name": "ipython",
    "version": 3
   },
   "file_extension": ".py",
   "mimetype": "text/x-python",
   "name": "python",
   "nbconvert_exporter": "python",
   "pygments_lexer": "ipython3",
   "version": "3.9.13"
  }
 },
 "nbformat": 4,
 "nbformat_minor": 5
}
