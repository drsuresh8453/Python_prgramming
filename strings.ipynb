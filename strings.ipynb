{
 "cells": [
  {
   "cell_type": "markdown",
   "id": "94309551",
   "metadata": {},
   "source": [
    "# 1)Write a program to calulcate the lenght of the string\n"
   ]
  },
  {
   "cell_type": "code",
   "execution_count": 5,
   "id": "140baaa6",
   "metadata": {},
   "outputs": [
    {
     "name": "stdout",
     "output_type": "stream",
     "text": [
      "Length of the string is  8\n"
     ]
    }
   ],
   "source": [
    "def string_length(str):\n",
    "    count=0\n",
    "    for char in str:\n",
    "        count+=1\n",
    "    return count\n",
    "print(\"Length of the string is \",string_length(\"ambadboy\"))"
   ]
  },
  {
   "cell_type": "markdown",
   "id": "132e64b3",
   "metadata": {},
   "source": [
    "# 2)Write a program to count the number of characters in string."
   ]
  },
  {
   "cell_type": "code",
   "execution_count": 10,
   "id": "5232963e",
   "metadata": {},
   "outputs": [
    {
     "name": "stdout",
     "output_type": "stream",
     "text": [
      "Frequency of characters  {'g': 2, 'o': 3, 'l': 1, 'e': 1, '.': 1, 'c': 1, 'm': 1}\n"
     ]
    }
   ],
   "source": [
    "def char_frequency(str):\n",
    "    dict={}\n",
    "    for n in str:\n",
    "        keys=dict.keys()\n",
    "        if n in keys:\n",
    "            dict[n]+=1\n",
    "        else:\n",
    "            dict[n]=1\n",
    "    return dict        \n",
    "print(\"Frequency of characters \",char_frequency('google.com'))    "
   ]
  },
  {
   "cell_type": "markdown",
   "id": "a75477e8",
   "metadata": {},
   "source": [
    "# 3)Write a program to get a string made of the first 2 and the last 2 chars from a given string"
   ]
  },
  {
   "cell_type": "code",
   "execution_count": 14,
   "id": "ba29ffc8",
   "metadata": {},
   "outputs": [
    {
     "name": "stdout",
     "output_type": "stream",
     "text": [
      "First 2 and last 2 strings are  myme\n",
      "First 2 and last 2 strings are  Pass big string\n"
     ]
    }
   ],
   "source": [
    "def string_both_ends(str):\n",
    "    if len(str)<2:\n",
    "        return \"Pass big string\"\n",
    "    else:\n",
    "        return str[0:2]+str[-2:]\n",
    "print(\"First 2 and last 2 strings are \",string_both_ends(\"myname\"))    \n",
    "print(\"First 2 and last 2 strings are \",string_both_ends(\"m\"))    \n",
    "        "
   ]
  },
  {
   "cell_type": "markdown",
   "id": "0e806228",
   "metadata": {},
   "source": [
    "# 4)Write a program to get string where occurences of the first char have been changed to $."
   ]
  },
  {
   "cell_type": "code",
   "execution_count": 20,
   "id": "877f5b0d",
   "metadata": {},
   "outputs": [
    {
     "name": "stdout",
     "output_type": "stream",
     "text": [
      "Changed string is  resta$t\n"
     ]
    }
   ],
   "source": [
    "def change_char(str):\n",
    "    char=str[0]\n",
    "    str1=str.replace(char,'$')\n",
    "    str1=char+str1[1:]\n",
    "    return str1\n",
    "print(\"Changed string is \",change_char('restart'))"
   ]
  },
  {
   "cell_type": "markdown",
   "id": "955d74f4",
   "metadata": {},
   "source": [
    "# 5)Write a program to get a single string from 2 given strings, seperated by a space and swap the first 2 characters of each string"
   ]
  },
  {
   "cell_type": "code",
   "execution_count": 22,
   "id": "75cd96a9",
   "metadata": {},
   "outputs": [
    {
     "name": "stdout",
     "output_type": "stream",
     "text": [
      "modified strings are  abz xyc\n"
     ]
    }
   ],
   "source": [
    "def chars_mix_up(a,b):\n",
    "    new_a=b[:2]+a[2:]\n",
    "    new_b=a[:2]+b[2:]\n",
    "    \n",
    "    return new_a+' '+new_b\n",
    "print(\"modified strings are \",chars_mix_up('xyz','abc'))"
   ]
  },
  {
   "cell_type": "markdown",
   "id": "52713591",
   "metadata": {},
   "source": [
    "# 6)Write a python program to add 'ing' at the end of a given string(length should be atleast 3).if the given string already ends with 'ing' then add 'ly' if the given string is less than 3"
   ]
  },
  {
   "cell_type": "code",
   "execution_count": 25,
   "id": "97c1e819",
   "metadata": {},
   "outputs": [
    {
     "name": "stdout",
     "output_type": "stream",
     "text": [
      "Adding string  ab\n",
      "Adding string  abcing\n",
      "Adding string  stringly\n"
     ]
    }
   ],
   "source": [
    "def add_string(str1):\n",
    "    length=len(str1)\n",
    "    \n",
    "    if length >2:\n",
    "        if str1[3:]=='ing':\n",
    "            str1=str1+'ly'\n",
    "        else:\n",
    "            str1+='ing'\n",
    "    return str1\n",
    "print(\"Adding string \",add_string('ab'))\n",
    "print(\"Adding string \",add_string('abc'))\n",
    "print(\"Adding string \",add_string('string'))\n",
    "        "
   ]
  },
  {
   "cell_type": "markdown",
   "id": "c137d327",
   "metadata": {},
   "source": [
    "# 7)Write a python program that takes a list of words and return the longest one"
   ]
  },
  {
   "cell_type": "code",
   "execution_count": 46,
   "id": "45fbc42a",
   "metadata": {},
   "outputs": [
    {
     "name": "stdout",
     "output_type": "stream",
     "text": [
      "longest word  (8, 'Exercise')\n"
     ]
    }
   ],
   "source": [
    "def find_longest_word(words_list):\n",
    "    word_len=[]\n",
    "    for n in words_list:\n",
    "        word_len.append((len(n),n))\n",
    "    word_len.sort() \n",
    "    return word_len[-1]\n",
    "    \n",
    "result=find_longest_word(['PHP','Exercise','backend'])\n",
    "print('longest word ',result)"
   ]
  },
  {
   "cell_type": "markdown",
   "id": "36f8885b",
   "metadata": {},
   "source": [
    "# 8)Write a python program to remove the nth index character from a nonempty string"
   ]
  },
  {
   "cell_type": "code",
   "execution_count": 49,
   "id": "a6053df3",
   "metadata": {},
   "outputs": [
    {
     "name": "stdout",
     "output_type": "stream",
     "text": [
      "Removing only particular character  pyhon\n"
     ]
    }
   ],
   "source": [
    "def remove_char(str,n):\n",
    "    first_part=str[:n]\n",
    "    last_part=str[n+1:]\n",
    "    return first_part+last_part\n",
    "print(\"Removing only particular character \",remove_char('python',2))"
   ]
  },
  {
   "cell_type": "markdown",
   "id": "59eaf3bd",
   "metadata": {},
   "source": [
    "# 9)Write a python program to change a given string to a newly string where the first and last chars have been changed"
   ]
  },
  {
   "cell_type": "code",
   "execution_count": 51,
   "id": "8770786d",
   "metadata": {},
   "outputs": [
    {
     "name": "stdout",
     "output_type": "stream",
     "text": [
      "Changing characters  dbca\n"
     ]
    }
   ],
   "source": [
    "def change_string(str):\n",
    "    return str[-1]+str[1:-1]+str[:1]\n",
    "print('Changing characters ',change_string('abcd'))"
   ]
  },
  {
   "cell_type": "markdown",
   "id": "5da40c66",
   "metadata": {},
   "source": [
    "# 10)Write a python program to remove characters that have odd index values in a given string"
   ]
  },
  {
   "cell_type": "code",
   "execution_count": 54,
   "id": "485846cb",
   "metadata": {},
   "outputs": [
    {
     "name": "stdout",
     "output_type": "stream",
     "text": [
      "Removed characters that have odd indexes  srs\n"
     ]
    }
   ],
   "source": [
    "def odd_values_string(str):\n",
    "    result=\"\"\n",
    "    for i in  range(len(str)):\n",
    "        if i%2==0:\n",
    "            result=result+str[i]\n",
    "    return result        \n",
    "print(\"Removed characters that have odd indexes \",odd_values_string(\"suresh\"))"
   ]
  },
  {
   "cell_type": "markdown",
   "id": "ecb2df29",
   "metadata": {},
   "source": [
    "# 11)Write a python programm to count occurences of each word in a given sentence\n"
   ]
  },
  {
   "cell_type": "code",
   "execution_count": 57,
   "id": "fa6e70e6",
   "metadata": {},
   "outputs": [
    {
     "name": "stdout",
     "output_type": "stream",
     "text": [
      "Words count  {'the': 2, 'quick': 1, 'brown': 1, 'fox': 1, 'jumps': 1, 'over': 1, 'lazy': 1, 'dog': 1}\n"
     ]
    }
   ],
   "source": [
    "def word_count(str):\n",
    "    counts={}\n",
    "    words=str.split()\n",
    "    for word in words:\n",
    "        if word in counts:\n",
    "            counts[word]+=1\n",
    "        else:\n",
    "            counts[word]=1\n",
    "    return counts\n",
    "    \n",
    "print('Words count ',word_count('the quick brown fox jumps over the lazy dog'))            "
   ]
  },
  {
   "cell_type": "markdown",
   "id": "7e2dc02d",
   "metadata": {},
   "source": [
    "# 12)Write a python program to insert string in the middle of the string\n"
   ]
  },
  {
   "cell_type": "code",
   "execution_count": 58,
   "id": "75784b79",
   "metadata": {},
   "outputs": [
    {
     "name": "stdout",
     "output_type": "stream",
     "text": [
      "Inserting elements at the middle  [[python]]\n"
     ]
    }
   ],
   "source": [
    "def insert_string_middle(str,word):\n",
    "    return str[:2]+word+str[2:]\n",
    "print(\"Inserting elements at the middle \",insert_string_middle('[[]]','python'))"
   ]
  },
  {
   "cell_type": "markdown",
   "id": "7ead2681",
   "metadata": {},
   "source": [
    "# 13)Write a python programm to get a string made of 4 copies of the two characters of a specified string(length must be atleast 2)"
   ]
  },
  {
   "cell_type": "code",
   "execution_count": 60,
   "id": "c21c3188",
   "metadata": {},
   "outputs": [
    {
     "name": "stdout",
     "output_type": "stream",
     "text": [
      "4 copies of last word  shshshsh\n"
     ]
    }
   ],
   "source": [
    "def insert_end(str):\n",
    "    sub_str=str[-2:]\n",
    "    return sub_str*4\n",
    "print(\"4 copies of last word \",insert_end(\"suresh\"))"
   ]
  },
  {
   "cell_type": "markdown",
   "id": "5c146847",
   "metadata": {},
   "source": [
    "# 14)Write a python function to convert a given string to all uppercase if it contains atleast 2 uppercase characters in the first 4 characters"
   ]
  },
  {
   "cell_type": "code",
   "execution_count": 64,
   "id": "90f3e620",
   "metadata": {},
   "outputs": [
    {
     "name": "stdout",
     "output_type": "stream",
     "text": [
      "Checking upper case letters  PYTHON\n",
      "Checking upper case letters  sUresh\n"
     ]
    }
   ],
   "source": [
    "def to_uppercase(str):\n",
    "    num_upper=0\n",
    "    for letter in str[:4]:\n",
    "        if letter.upper()==letter:\n",
    "            num_upper+=1\n",
    "    if num_upper>=2:\n",
    "        return str.upper()\n",
    "    return str\n",
    "print(\"Checking upper case letters \",to_uppercase(\"PyThon\"))    \n",
    "print(\"Checking upper case letters \",to_uppercase(\"sUresh\")) "
   ]
  },
  {
   "cell_type": "markdown",
   "id": "616b8dcf",
   "metadata": {},
   "source": [
    "# 15)Write a programm to reverse a string if its length is a multiple of 4"
   ]
  },
  {
   "cell_type": "code",
   "execution_count": 67,
   "id": "4aaa0476",
   "metadata": {},
   "outputs": [
    {
     "name": "stdout",
     "output_type": "stream",
     "text": [
      "Reversing a string  dcba\n",
      "Reversing a string  Not a multiple of 4\n"
     ]
    }
   ],
   "source": [
    "def reverse_string(str):\n",
    "    if len(str)%4==0:\n",
    "        return str[::-1]\n",
    "    return \"Not a multiple of 4\"\n",
    "print(\"Reversing a string \",reverse_string(\"abcd\"))\n",
    "print(\"Reversing a string \",reverse_string(\"python\"))"
   ]
  },
  {
   "cell_type": "markdown",
   "id": "b28fd051",
   "metadata": {},
   "source": [
    "# 16)Write a program to lowercase the first n characters in a string\n"
   ]
  },
  {
   "cell_type": "code",
   "execution_count": 68,
   "id": "75a7e513",
   "metadata": {},
   "outputs": [
    {
     "name": "stdout",
     "output_type": "stream",
     "text": [
      "w3reSOURCE.COM\n"
     ]
    }
   ],
   "source": [
    "str1='W3RESOURCE.COM'\n",
    "print(str1[:4].lower()+str1[4:])"
   ]
  },
  {
   "cell_type": "markdown",
   "id": "23fdbbf6",
   "metadata": {},
   "source": [
    "# 17)Write a program to count and display the vowels of a given text"
   ]
  },
  {
   "cell_type": "code",
   "execution_count": 70,
   "id": "d1b7405a",
   "metadata": {},
   "outputs": [
    {
     "name": "stdout",
     "output_type": "stream",
     "text": [
      "5\n",
      "Counting vowels  None\n"
     ]
    }
   ],
   "source": [
    "def vowel(text):\n",
    "    vowels='aeiouAEIOU'\n",
    "    print(len([letter for letter in text if letter in vowels]))\n",
    "print(\"Counting vowels \",vowel(\"mynameissuresh\"))    "
   ]
  },
  {
   "cell_type": "markdown",
   "id": "73b32905",
   "metadata": {},
   "source": [
    "# 18)Write a program to find the first repeated character in a given string"
   ]
  },
  {
   "cell_type": "code",
   "execution_count": 73,
   "id": "2d9f6ef7",
   "metadata": {},
   "outputs": [
    {
     "name": "stdout",
     "output_type": "stream",
     "text": [
      "Repreated character  m\n"
     ]
    }
   ],
   "source": [
    "def first_repeated_char(str):\n",
    "    for index,c in enumerate(str):\n",
    "        if str[:index+1].count(c)>1:\n",
    "            return c\n",
    "     \n",
    "print(\"Repreated character \",first_repeated_char(\"myname\"))        "
   ]
  },
  {
   "cell_type": "code",
   "execution_count": null,
   "id": "c7511278",
   "metadata": {},
   "outputs": [],
   "source": []
  }
 ],
 "metadata": {
  "kernelspec": {
   "display_name": "Python 3 (ipykernel)",
   "language": "python",
   "name": "python3"
  },
  "language_info": {
   "codemirror_mode": {
    "name": "ipython",
    "version": 3
   },
   "file_extension": ".py",
   "mimetype": "text/x-python",
   "name": "python",
   "nbconvert_exporter": "python",
   "pygments_lexer": "ipython3",
   "version": "3.9.13"
  }
 },
 "nbformat": 4,
 "nbformat_minor": 5
}
